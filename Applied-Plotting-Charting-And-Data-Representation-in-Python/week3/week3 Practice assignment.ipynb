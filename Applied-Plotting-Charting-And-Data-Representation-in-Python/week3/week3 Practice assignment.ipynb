{
 "cells": [
  {
   "cell_type": "markdown",
   "metadata": {},
   "source": [
    "# Practice Assignment: Understanding Distributions Through Sampling\n",
    "\n",
    "** *This assignment is optional, and I encourage you to share your solutions with me and your peers in the discussion forums!* **\n",
    "\n",
    "\n",
    "To complete this assignment, create a code cell that:\n",
    "* Creates a number of subplots using the `pyplot subplots` or `matplotlib gridspec` functionality.\n",
    "* Creates an animation, pulling between 100 and 1000 samples from each of the random variables (`x1`, `x2`, `x3`, `x4`) for each plot and plotting this as we did in the lecture on animation.\n",
    "* **Bonus:** Go above and beyond and \"wow\" your classmates (and me!) by looking into matplotlib widgets and adding a widget which allows for parameterization of the distributions behind the sampling animations.\n",
    "\n",
    "\n",
    "Tips:\n",
    "* Before you start, think about the different ways you can create this visualization to be as interesting and effective as possible.\n",
    "* Take a look at the histograms below to get an idea of what the random variables look like, as well as their positioning with respect to one another. This is just a guide, so be creative in how you lay things out!\n",
    "* Try to keep the length of your animation reasonable (roughly between 10 and 30 seconds)."
   ]
  },
  {
   "cell_type": "code",
   "execution_count": null,
   "metadata": {},
   "outputs": [],
   "source": [
    "import matplotlib.pyplot as plt\n",
    "import numpy as np\n",
    "import matplotlib.animation as animation\n",
    "%matplotlib notebook\n",
    "\n",
    "# generate 4 random variables from the random, gamma, exponential, and uniform distributions\n",
    "x1 = np.random.normal(-2.5, 1, 10000)\n",
    "x2 = np.random.gamma(2, 1.5, 10000)\n",
    "x3 = np.random.exponential(2, 10000)+7\n",
    "x4 = np.random.uniform(14,20, 10000)\n",
    "x = [x1, x2, x3, x4]\n",
    "\n",
    "# generate 4 subplots\n",
    "fig, ((ax1, ax2), (ax3, ax4)) = plt.subplots(2, 2, sharey = True)\n",
    "ax = [ax1, ax2, ax3, ax4]\n",
    "# generate 4 axises(xmin, xmax, ymin, ymax) for each graph \n",
    "axis1 = [-7.5, 2.5, 0, 0.6]\n",
    "axis2 = [0, 10, 0, 0.6]\n",
    "axis3 = [7, 17, 0, 0.6]\n",
    "axis4 = [14, 20, 0, 0.6]\n",
    "axis = [axis1, axis2, axis3, axis4]\n",
    "\n",
    "# generate 4 bins for each graph \n",
    "bins1 = np.arange(-7.5, 2.5, 0.5)\n",
    "bins2 = np.arange(0, 10, 0.5)\n",
    "bins3 = np.arange(7, 17, 0.5)\n",
    "bins4 = np.arange(12, 22, 0.5)\n",
    "bins = [bins1, bins2, bins3, bins4]\n",
    "\n",
    "# annotation positions\n",
    "anno_x = [-1, 6.5, 13.5, 18]\n",
    "\n",
    "# generate titles\n",
    "titles = [\"Normal\", \"Gamma\", \"Exponential\", \"Uniform\"]\n",
    "# create the function that will do the plotting, where curr is the current frame\n",
    "def update(curr):\n",
    "\n",
    "    # check if animation is at the last frame, and if so, stop the animation\n",
    "    if curr == n: \n",
    "        b.event_source.stop()\n",
    "        \n",
    "    # plot the histograms\n",
    "    for i in range(len(ax)):\n",
    "        ax[i].cla()\n",
    "        ax[i].hist(x[i][:curr*100], normed = True, bins = bins[i])\n",
    "        ax[i].axis(axis[i])\n",
    "        ax[i].set_title(titles[i])\n",
    "        ax[i].set_ylabel('Probability')\n",
    "        ax[i].set_xlabel('Value')\n",
    "        ax[i].annotate('n = {}'.format(curr*100), [anno_x[i], 0.5])\n",
    "    plt.tight_layout()\n",
    "    \n",
    "n=100\n",
    "b = animation.FuncAnimation(fig, update, interval=20)\n"
   ]
  },
  {
   "cell_type": "code",
   "execution_count": null,
   "metadata": {},
   "outputs": [],
   "source": []
  }
 ],
 "metadata": {
  "kernelspec": {
   "display_name": "Python 3",
   "language": "python",
   "name": "python3"
  },
  "language_info": {
   "codemirror_mode": {
    "name": "ipython",
    "version": 3
   },
   "file_extension": ".py",
   "mimetype": "text/x-python",
   "name": "python",
   "nbconvert_exporter": "python",
   "pygments_lexer": "ipython3",
   "version": "3.7.6"
  }
 },
 "nbformat": 4,
 "nbformat_minor": 4
}
